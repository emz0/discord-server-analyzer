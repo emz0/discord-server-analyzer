{
 "cells": [
  {
   "cell_type": "code",
   "execution_count": 1,
   "metadata": {},
   "outputs": [],
   "source": [
    "from db.client import PGClient\n",
    "from collections import ChainMap\n",
    "from datetime import datetime\n",
    "import re\n",
    "import emoji\n",
    "import pandas as pd\n",
    "client = PGClient()"
   ]
  },
  {
   "cell_type": "code",
   "execution_count": 7,
   "metadata": {},
   "outputs": [],
   "source": [
    "uni_emojis_list = map(lambda x: ''.join(x.split()), emoji.UNICODE_EMOJI.keys())\n",
    "uni_emojis_pt = re.compile('|'.join(re.escape(p) for p in uni_emojis_list))\n",
    "\n",
    "def clean(c):\n",
    "    url_pt = 'http[s]?://(?:[a-zA-Z]|[0-9]|[$-_@.&+]|[!*\\(\\),]|(?:%[0-9a-fA-F][0-9a-fA-F]))+'\n",
    "    custom_emoji_pt = '<:\\w+:[0-9]+>'\n",
    "    tag_pt = '<@!?[0-9]+>'\n",
    "   \n",
    "    c = str(c)\n",
    "    c = re.sub(url_pt, '', c)\n",
    "    c = re.sub(tag_pt, '', c)\n",
    "    c = re.sub('\\n',' ', c)\n",
    "    c = uni_emojis_pt.sub('', c)\n",
    "    c = re.sub('\"','', c)\n",
    "    \n",
    "    emojis = re.findall(custom_emoji_pt,c)\n",
    "    for e in emojis:\n",
    "        e_new = e.split(':')[1].lower()\n",
    "        c = re.sub(e, '', c)\n",
    "\n",
    "    return c.strip()"
   ]
  },
  {
   "cell_type": "code",
   "execution_count": 114,
   "metadata": {},
   "outputs": [],
   "source": [
    "def get_messages(first_id=None, last_id=None, by_author=False):\n",
    "    q_messages = \"\"\"SELECT json_build_object('id',id,'posted_at',posted_at,\n",
    "                                             'content',content, 'author_name', author_name,\n",
    "                                             'author_id', author_id)\n",
    "                    FROM messages \n",
    "                    WHERE author_id NOT IN (155149108183695360, 349547918966915073, 159985870458322944) \"\"\"\n",
    "    if first_id:\n",
    "        q_messages += \"AND id >= \" + str(first_id)\n",
    "    if last_id:\n",
    "        q_messages += \"AND id <= \" + str(last_id) \n",
    "    \n",
    "    q_messages += \"ORDER BY id\"\n",
    "\n",
    "    cursor = client.query(q_messages)\n",
    "    message = cursor.fetchone()\n",
    "\n",
    "    if by_author:\n",
    "        messages = {}\n",
    "        while message:\n",
    "            message = message[0]\n",
    "            author_id = str(message['author_id'])\n",
    "            del message['author_id']\n",
    "            del message['author_name']\n",
    "            if author_id in messages:\n",
    "                messages[author_id].append(message)\n",
    "            else:\n",
    "                messages[author_id] = [message]\n",
    "            message = cursor.fetchone()\n",
    "    else:\n",
    "        messages = []\n",
    "        while message:\n",
    "            #message = message[0]\n",
    "            #message['content'] = clean(message['content'])\n",
    "            #if message['content']:\n",
    "            messages.append(message[0])\n",
    "\n",
    "            message = cursor.fetchone()\n",
    "    \n",
    "    return messages"
   ]
  },
  {
   "cell_type": "code",
   "execution_count": 31,
   "metadata": {},
   "outputs": [],
   "source": [
    "def get_discussions(min_char_len=250, max_time_diff=30):\n",
    "    q_messages = \"\"\"SELECT json_build_object('id',id,'posted_at',posted_at,'content',content, 'author_name', author_name) FROM messages \n",
    "                    WHERE author_id NOT IN (155149108183695360, 349547918966915073, 159985870458322944)\n",
    "                    ORDER BY id\n",
    "                    \"\"\" \n",
    "\n",
    "    cursor = client.query(q_messages)\n",
    "    message = cursor.fetchone()\n",
    "    discussions = [[]]\n",
    "    previous_message = datetime.strptime(message[0]['posted_at'], '%Y-%m-%dT%H:%M:%S')\n",
    "\n",
    "    while message:\n",
    "        message = message[0]\n",
    "        content = clean(message['content'])\n",
    "        message_date = datetime.strptime(message['posted_at'], '%Y-%m-%dT%H:%M:%S')\n",
    "        if content:\n",
    "            message['content'] = content\n",
    "            time_diff = (message_date - previous_message).total_seconds() / 60\n",
    "            if(time_diff > max_time_diff):\n",
    "                discussions.append([message])\n",
    "\n",
    "            else:\n",
    "                discussions[-1:][0].append(message)\n",
    "        previous_message = message_date\n",
    "        message = cursor.fetchone()\n",
    "\n",
    "    contents = []\n",
    "    for d in discussions:\n",
    "        if len(d) > min_char_len:\n",
    "            content = ''\n",
    "            for message in d:\n",
    "                content += ' ' + message['content']\n",
    "            contents.append(content)\n",
    "\n",
    "    return contents"
   ]
  },
  {
   "cell_type": "code",
   "execution_count": 38,
   "metadata": {},
   "outputs": [],
   "source": [
    "def extract_content(messages):\n",
    "    content = ''\n",
    "    for message in messages:\n",
    "        content += ' ' + message['content']\n",
    "\n",
    "    return content"
   ]
  },
  {
   "cell_type": "code",
   "execution_count": 136,
   "metadata": {},
   "outputs": [],
   "source": [
    "import nltk\n",
    "import re\n",
    "def split_content(content, n):\n",
    "    i = 0\n",
    "    c = ''\n",
    "    contents = []\n",
    "    for w in content.split(' '):\n",
    "        if (i + len(w)) <= n:\n",
    "            c += w + ' '\n",
    "            i += len(w)\n",
    "        else:\n",
    "            contents.append(re.sub('\\s+', ' ', c).strip())\n",
    "            c = w + ' '\n",
    "            i = len(w)\n",
    "    contents.append(re.sub('\\s+', ' ', c).strip())\n",
    "        \n",
    "    return contents"
   ]
  },
  {
   "cell_type": "code",
   "execution_count": 82,
   "metadata": {},
   "outputs": [],
   "source": [
    "d_trela = get_messages(372759366392348683, 372782278138396673)\n",
    "d_febo = get_messages(373118183298826243, 373157096436400131)\n",
    "d_blade = get_messages(389492652934168576, 389536301671776258)\n",
    "d_radek = get_messages(350181842198200321, 350235040942391308)"
   ]
  },
  {
   "cell_type": "code",
   "execution_count": 83,
   "metadata": {},
   "outputs": [],
   "source": [
    "n = 3000\n",
    "d_trela = split_content(clean(extract_content(d_trela)), n)\n",
    "d_febo = split_content(clean(extract_content(d_febo)), n)\n",
    "d_blade = split_content(clean(extract_content(d_blade)), n)\n",
    "d_radek = split_content(clean(extract_content(d_radek)), n)"
   ]
  },
  {
   "cell_type": "code",
   "execution_count": 84,
   "metadata": {},
   "outputs": [
    {
     "name": "stdout",
     "output_type": "stream",
     "text": [
      "4\n",
      "2\n",
      "3\n",
      "3\n"
     ]
    }
   ],
   "source": [
    "print(len(d_trela))\n",
    "print(len(d_febo))\n",
    "print(len(d_blade))\n",
    "print(len(d_radek))"
   ]
  },
  {
   "cell_type": "code",
   "execution_count": 118,
   "metadata": {},
   "outputs": [],
   "source": [
    "d_trela_a = get_messages(372759366392348683, 372782278138396673, by_author=True)\n",
    "d_febo_a = get_messages(373118183298826243, 373157096436400131, by_author=True)\n",
    "d_blade_a = get_messages(389492652934168576, 389536301671776258, by_author=True)\n",
    "d_radek_a = get_messages(350181842198200321, 350235040942391308, by_author=True)"
   ]
  },
  {
   "cell_type": "code",
   "execution_count": 121,
   "metadata": {},
   "outputs": [
    {
     "name": "stdout",
     "output_type": "stream",
     "text": [
      "12\n",
      "10\n",
      "10\n",
      "9\n"
     ]
    }
   ],
   "source": [
    "print(len(d_trela_a.keys()))\n",
    "print(len(d_febo_a.keys()))\n",
    "print(len(d_blade_a.keys()))\n",
    "print(len(d_radek_a.keys()))"
   ]
  },
  {
   "cell_type": "code",
   "execution_count": 140,
   "metadata": {},
   "outputs": [],
   "source": [
    "merged = {}\n",
    "for a, d in d_trela_a.items():\n",
    "    ab = split_content(clean(extract_content(d)), n)\n",
    "    merged[a] = ab\n"
   ]
  },
  {
   "cell_type": "code",
   "execution_count": 153,
   "metadata": {},
   "outputs": [
    {
     "data": {
      "text/plain": [
       "3645"
      ]
     },
     "execution_count": 153,
     "metadata": {},
     "output_type": "execute_result"
    }
   ],
   "source": [
    "len(merged['366237556280393728'][0])"
   ]
  },
  {
   "cell_type": "code",
   "execution_count": 152,
   "metadata": {},
   "outputs": [
    {
     "data": {
      "text/plain": [
       "3000"
      ]
     },
     "execution_count": 152,
     "metadata": {},
     "output_type": "execute_result"
    }
   ],
   "source": [
    "n"
   ]
  },
  {
   "cell_type": "code",
   "execution_count": 146,
   "metadata": {},
   "outputs": [
    {
     "data": {
      "text/plain": [
       "{'156052059555233792': [\"Drama Drama happend Basically Storm accidentally put his dick pic Xan replied with a pic with a cum With a cum Fignore trelabot Ik Funigore trelacki Im back U are mentally disabled. Understandable kjx sir In a pretty way yes Kubi emote I have idea Kubi = MingLee 2⃣ 3⃣ plot twist i get promoted to 99 izno pm basem use VPN germany and dont talk no drama then :gg: or that ah limited nice picture *sigh* *unzips* here we go again yes radek priest so i need to know am i getting demoted or no? i believe the logic behind this is if you are higher level than usual (60+), you are suppose to be nice to people and helping them, etc. not being racist OR hurting their feelings. because if you are 60+ you are trusted with a server control therefore there are people who are trusting you. honestly. radek. NO OFFEENSE PLEASE I STILL LOVE YOU. but you shouldn't be 90 IMHO because you are being mean to basem etc. which is clearly not allowed what if there are other tunisian,iraq, etc. people on server do you think they will take it as a joke? trela i really need AN OFFICIAL statement of what you just said izno never shared his information what if hes a muslim? you still talk to him the Islamic sacred book, believed to be the word of God as dictated to Muhammad by the archangel Gabriel and written down in Arabic. the Islamic sacred book, believed to be the word of God as dictated to Muhammad by the archangel Gabriel and written down in Arabic. do you believe in god trela? i am serious do you believe in real God. christian god yes. so you dont believe in christian god BUT you believe in Quran which is basically an islam bible thats what media wants us to believe. ^ found it WHITE NINJA Islam (Arabic: الإسلام, Al-Islam (Submission)) is a religion that believes in one God I(Allah) A Muslim is someone who follows or practices Islam, a monotheistic Abrahamic religion. done. yes !poll wait tona map Tona - Today at 5:36 PM basem finished real_autist now its your turn the only thing we can do here is to move on and dont talk 2 eachother dont mention any muslim/islam shits or better. dont mention religion in JH kee p your thoughts for yourself. tbh if he has 200+ ppl on fignore list (fignoring without reason) there is something wrong with him. his bomb lagged cg_chattime 0 and he does not ignore czech people interesting. gn ah k you repeating this sentence makes me believe theres everything bad and bad what do you mean i cant work on map cuz iznohund doesnt reply me i believe theres no jh on 1.0 we want kjx pls xDD only 3 humans on this planet know kjx++ 0 this code does nothing limited pls\"],\n",
       " '185846793341370368': ['you dont want my opinion on this things going to happen'],\n",
       " '227488711477166081': [\"rofl radek priest for god's sake trela, pls. CMON I GOR GOT deal fu thats not even islam its disgreace switch to real life and move on.\"],\n",
       " '242569944821268481': [\"[4:49 PM] lev: I will finish canyon when xan and storm say sorry to trela /// i have nothing to apologize for, but i wish they would come back what have innocent muslims done to you? i have nothing again you, i want you to keep jumping, i jsut dont want you to to be higher lvl when you are willing to mute them or kick them jsut for being from a muslim country against you* well, thats good, keep jumping and behaving nicely and claay might change his opinion [5:23 PM] Trelacki: You will go cry again so what's the problem /// not if it will be justified, i want you to get a higher lvl, but not for the sake of community [5:24 PM] Trelacki: didn't used my lvl 80 against any`1. /// you didnt, but you did say a guy is a terrorist just becausse he is from iraq which a high lvl admin shouldnt say well, thats the reason you arent getting higher lvl, admins on jh are supposed to help people and not calling them something they might not be, whcih could be insulting to them iraq guy asked for help, i helped him and then you asked me why am i helping a terrorist it was vissible in cod2 channel and clay saw it i was never and i never will be against you but i also dont want innocent people who want to jump to be abused do you have crusti croc? basem is also mean to me sometimes and he knwos im joking how do you know they are terrorists? basem, as a muslim, do you belive in killing people? yes, tell that to storm izno, he wanted to change him as well if i had half a year then id submit a map for contest (c) pauli yes even kubi has good inside of him :D\"],\n",
       " '269230184643821588': ['radek made storm rage with a cum with a glue I thought lev fignored me cause i couldnt see him in freespec turned out i actually fignored him someone make a :kubi: emote :23: OH MY GOD GUYS KEEP GOING PLEASE IM ENJOYING THIS SO MUCH inb4 thats what she said okay im going to have dinner but when im back, i want there to still be drama ok? deal cu thanks for not breaking the deal guys there is still drama ye trela clearly joking about this what is your opinion on this matter why else would i ask for it tunisian math nah it looks okay to me how many animals ? if;(religion=islam)=terrorist+bomb'],\n",
       " '278484537900531723': ['hello tomis spit on my smiling balls pls new pic, you can jerk it off to me WHERE IS MY NEW PIC KURWEA there is lemme smash no no mood for that im chilling watching sad videos and crying why claay contest is over nah? ill go home tomorrow so no chance to fdinish it I want popcorn now сука блять иди нахуй пизда Trela hell no fuck You know nothign about orban xDDDD Orban hates them ANd a good painter Who said I love the terrorists? I think Im out No point of this argument Trela is full of hate, so no point Have u ever read it? you see it right Izno And do you know why are the muslims coming? Arab spring my friend xD Okay, the friend here doesnt mean a real friend good solution always An adult doesnt ingoring a problem, he solves it And idk why you feel as an attack against youxd Go I want to hear Im courious xdd xd If (kubi=trela) make.people.bomb; xDD i forgot to declare the variable for(int kjx=0;kjx<10;kjx++) { unfisnihed ik Just having fun'],\n",
       " '298427771401797632': ['not really where is that taunt ? those mp3 i sent u so what u will do with them ? trela u didnt notes that u talk too much about muslims and say some shit about them ? one min son of god ? wtf lol as a muslim k pls islam word mean security, safety, peace, belly, safeness cmon guys i see u all talking about smth u never know anything about it ok , now i have to explain what is the ISLAM and what is the MUSLIM they wearing that white shit cuz their habits , and am muslim as they are and i didnt do what they do or eat what they eat or like what they like or feel like they feel so thats not really mean all muslims are good , or all muslims are bad in everything there is good & bad k , kubi how about kubi and claay who is better everyone will say claay and kubi too is not bad but he is smth like autistic u see , u cant say anything now just live in ur life and ignore everything is not for u good there is exactly what claay do so everyone like claay aha , back to this shit ye maybe but he is do what u do always call all muslims are terrorists i think everyone know what is islam but what is islam does mean i think here noone know islam the best word ever islam = everything good muslim <= islam eh shit why u wont understand there is in everything good and bad thats all i can say remember this when u talking about islam or muslims there is in everything good and bad there is in everything good and bad there is in everything good and bad lol some one added me on fb and tell me there is JH on 1.0 no looks like tunisian he can talk EN & FR & AR lol he is tunisian cmon 10 years old i think this kid omg lol trela joking i think just to enjoy u kubi = trela trela = kubi } both.... loooooooool i hope u learn this trela'],\n",
       " '345644502939336705': ['what happend? how?'],\n",
       " '349468366362247173': [\"are u working on your map? U can try the contest Friday >dont talk >problem solved Europe balances the right to free expression with the right to be free of offense, meaning your right to speak is limited by speech that I might reasonably take as offensive. and what do they do to offend you? they exist? you cant know what a random guy believes in maybe if he is member of ISIS i believe those words are out of context..real muslims are friendly and not monsters..but ye this is what media presents us yes 3 verses thats all u got Using those types of stories without context would be like saying that the United States is a racist/genocidal country because they bombed Japan in 1945, killing 250,000 people. The statement that they bombed Japan is true, but there's a whole context (a preceding global war that lasted 6 years) that it needs to be considered in the context of. ISIS presents ISLAM in their way . and thats what u see because white ppl dont do that at all right? 2020 just like your time management sounds like raul ask him to say number just like kubi is trolling u know kjx++ kjx compiler reports success\"],\n",
       " '350694996711702539': ['basem finished real_autist now its your turn delay for 1 month'],\n",
       " '366237556280393728': [\"with the thing You put in levcakes. lev god left You permamently seenable type funignore trelabot to bring him back god is back Hi lev You mean his disease is retard? XD kubi emote.. screen of writing TESLA with colors on chat? XD or iznodolf? ;D :23: XD hahaaha kay going to geek classic tetris as I wait for dinner brb nope XD XD XD XD You are just fake friend that's all You're acting like a friend and when I get promoted You are crying all the way to make me demoted lol what's the deal man what have I done to You? Literally nothing what muslims? xD XD XD XD not needed, it ain't going to take long I'm not willing to mute / kick them what the fuck I used this command as some1 from this discord used !kick kubi what the fuck is wrong with You? I know right what level have what possibilities if I'd like to abuse my power, don't You think I'd mute him/ I don't want any1 to change his opinion You will go cry again so what's the problem and there's nothing to change didn't used my lvl 80 against any`1. simple. and yet this conversation doesn't change anything about you being a fake friend all from me kek What drama? writing the truth about some1 isn't a drama it's sincerity I mean things which You can see up wat. Why not I'm allowed to say whatever I wnat want* that's called freedom of speech or You are like social media, You disallow this XD also I didn't use word terrorist another lie hm. maybe. help him plant the bomb in czech republic! XDDDDDDDDDDDDDDDDDDDDDDDDDDDDDDDDDDDDDDDDDDDDDDDDDDDDDDDDDDDDDDDDDDDDDDDDDDDDDDDDDDDDDDD if he is innocent You're not the 1 who caused You to be 200kg+ k XD np I take offense of terorrist coming to server on which I want peace and speaking some unknown language mixed with letters and numbers fucking special code to detonate bomb or what I fignore them lol they believe in killing people? if he is from iraq, he is muslim if he is muslim, he believe in killing people limited go to orban and tell him they are cool and you want 1 in your house Quran Quran (2:191-193) - And kill them wherever you find them, and turn them out from where they have turned you out. And Al-Fitnah [disbelief or unrest] is worse than killing... but if they desist, then lo! Allah is forgiving and merciful. And fight them until there is no more Fitnah [disbelief and worshipping of others along with Allah] and worship is for Allah alone. But if they cease, let there be no transgression except against Az-Zalimun(the polytheists, and wrong-doers, etc.) (Translation is from the Noble Quran) The verse prior to this (190) refers to fighting for the cause of Allah those who fight you leading some to claim that the entire passage refers to a defensive war in which Muslims are defending their homes and families. The historical context of this passage is not defensive warfare, however, since Muhammad and his Muslims had just relocated to Medina and were not under attack by their Meccan adversaries. In fact, the verses urge offensive warfare, in that Muslims are to drive Meccans out of their own city (which they later did). Verse 190 thus means to fight those who offer resistance to Allah's rule (ie. Muslim conquest). The use of the word persecution by some Muslim translators is disingenuous - the actual Arabic words for persecution (idtihad) - and oppression are not used instead of fitna. Fitna can mean disbelief, or the disorder that results from unbelief or temptation. A strict translation is 'sedition,' meaning rebellion against authority (the authority being Allah). This is certainly what is meant in this context since the violence is explicitly commissioned until religion is for Allah -\",\n",
       "  \"ie. unbelievers desist in their unbelief. [Editor's note: these notes have been modified slightly after a critic misinterpreted our language. Verse 193 plainly says that 'fighting' is sanctioned even if the fitna 'ceases'. This is about religious order, not real persecution.] have fun ye, and You love them limited, so go for a conversation with him read this shit book claay then simple. Quran (2:191-193) Quran (2:191-193) Quran (2:191-193) Quran (2:191-193) google it GO READ IT THEN TALK TO ME GET SOME FKN AKNOWLEDGE ABOUT THIS DISEASE Hard to not belive in yourself lol. believe* how can I believe in 1 person which was walking on the water Izno please cause I don't care about this religion I don't believe in this, these retards believe that's why they kill people GEEZOS That's why they rape european girls for their look cause they look like bitches better to look like a fucking ninja google again I'll send You here and read how many of those happened by muslims in last 2 years in europe don't call me your friend cuz You're nobody for me atm you* right Izno. I don't respect him . k ignored. reminds me of rajo told me if I tell this to him he will don't angry for me by the behavior of those people which I saw IRL I can argue about it till You change Your opinion. kubi go finish real autist ? You just call him an autist without reason he is quite intelligent person. because they are. lev Don't You consider he don't want to have constant spam on chat / don't want to talk with people at all? Reasons. Nothing happens without a reason. !en basem ye ye everything will be good when instead of europa will be eurabia If You're going to some country as a refugee You just submit to those people to which You are oging going* accept them and live with them in peace You don't want them to change everything on your favor simple. Basem please... just end up this conversation.. I want to take rest after work Not going to slepe. sleep* in 10 years he will be dead cuz of suicide bomb attack that's what I can see by his face\"],\n",
       " '99247855344025600': [\"jm_tetris? basem any final real_artist what taunt basem im not making those into taunts u wot lev ALL I SEE IN PM IS YOU CALLING ME DOLF i tried not making a clan out of JH to prevent drama did it just make more drama? fucking all this fucking shit are you playing emunow or will you be playing emulater thats because all christians wait till marriage to have sex. ill go to fucking orban and tell him i want one in my server k hitler was atheist. i dont need to quote his ideology here i hope. you're basically quoting bible verses here trela. which are about as bad as quran ones there is a big space between hating and loving trela. trela has no way of knowing my religion. the worst guy from lebanon that i know is a fucking christian do you believe in the christian god trela? that was his son you dont even know christian religion how can you judge muslims im giving up on trela. he really wants to see this stuff his way, and there is no way to change his mind, no matter how much evidence to the contrary you present him. and right now he'll be convinced that we are all pro-islam becuase we sound anti-trela as said, i give up. thats why you still capitalize the You that's the first google search result for religion of peace !poll delay contest more? BaSeM: they wearing that white shit cuz their habits , and am muslim as they are and i didnt do what they do or eat what they eat or like what they like or feel like they feel and you call all muslims terrorists without reasons then why hasnt basem exploded yet. so that's why he is actively ignoring people for months on end through all possible channels he even ignored my voice chat through grey's stream he was watching only responded to shit when grey repeated it... and trela if you trust google google this are all muslims terorrists i believe so too.\"]}"
      ]
     },
     "execution_count": 146,
     "metadata": {},
     "output_type": "execute_result"
    }
   ],
   "source": [
    "merged"
   ]
  },
  {
   "cell_type": "code",
   "execution_count": 5,
   "metadata": {},
   "outputs": [],
   "source": [
    "df = pd.DataFrame(d_contents)\n",
    "df.to_clipboard(index=False, header=False)"
   ]
  },
  {
   "cell_type": "code",
   "execution_count": 75,
   "metadata": {},
   "outputs": [],
   "source": [
    "from paralleldots import set_api_key, get_api_key, sentiment, similarity, emotion"
   ]
  },
  {
   "cell_type": "code",
   "execution_count": 76,
   "metadata": {},
   "outputs": [],
   "source": [
    "set_api_key(\"iQVOCSTVfHzRd67ybpvqaEWEgCRQefqWuIQfRypVm0I\") \n"
   ]
  },
  {
   "cell_type": "code",
   "execution_count": 79,
   "metadata": {},
   "outputs": [],
   "source": [
    "discussions = [d_trela, d_febo, d_blade, d_radek]\n",
    "sentiments = []\n",
    "emotions = []\n",
    "for d in discussions:\n",
    "    d_sentiments = []\n",
    "    d_emotions = []\n",
    "    for d_part in d:\n",
    "        #d_sentiments.append(sentiment(d_part))\n",
    "        d_emotions.append(emotion(d_part))\n",
    "    #sentiments.append(d_sentiments)\n",
    "    emotions.append(d_emotions)"
   ]
  },
  {
   "cell_type": "code",
   "execution_count": 80,
   "metadata": {
    "collapsed": true
   },
   "outputs": [
    {
     "data": {
      "text/plain": [
       "[[{'emotion': 'indifferent',\n",
       "   'probabilities': {'angry': 0.016536,\n",
       "    'excited': 0.147496,\n",
       "    'happy': 0.090375,\n",
       "    'indifferent': 0.692472,\n",
       "    'sad': 0.05312},\n",
       "   'usage': 'By accessing ParallelDots API or using information generated by ParallelDots API, you are agreeing to be bound by the ParallelDots API Terms of Use: http://www.paralleldots.com/terms-and-conditions'},\n",
       "  {'emotion': 'angry',\n",
       "   'probabilities': {'angry': 0.761599,\n",
       "    'excited': 0.001831,\n",
       "    'happy': 0.002428,\n",
       "    'indifferent': 0.034183,\n",
       "    'sad': 0.19996},\n",
       "   'usage': 'By accessing ParallelDots API or using information generated by ParallelDots API, you are agreeing to be bound by the ParallelDots API Terms of Use: http://www.paralleldots.com/terms-and-conditions'},\n",
       "  {'emotion': 'indifferent',\n",
       "   'probabilities': {'angry': 0.194818,\n",
       "    'excited': 0.055348,\n",
       "    'happy': 0.025928,\n",
       "    'indifferent': 0.36921,\n",
       "    'sad': 0.354696},\n",
       "   'usage': 'By accessing ParallelDots API or using information generated by ParallelDots API, you are agreeing to be bound by the ParallelDots API Terms of Use: http://www.paralleldots.com/terms-and-conditions'},\n",
       "  {'emotion': 'indifferent',\n",
       "   'probabilities': {'angry': 0.109846,\n",
       "    'excited': 0.125199,\n",
       "    'happy': 0.080246,\n",
       "    'indifferent': 0.423882,\n",
       "    'sad': 0.260827},\n",
       "   'usage': 'By accessing ParallelDots API or using information generated by ParallelDots API, you are agreeing to be bound by the ParallelDots API Terms of Use: http://www.paralleldots.com/terms-and-conditions'}],\n",
       " [{'emotion': 'indifferent',\n",
       "   'probabilities': {'angry': 0.01353,\n",
       "    'excited': 0.219462,\n",
       "    'happy': 0.175752,\n",
       "    'indifferent': 0.557346,\n",
       "    'sad': 0.03391},\n",
       "   'usage': 'By accessing ParallelDots API or using information generated by ParallelDots API, you are agreeing to be bound by the ParallelDots API Terms of Use: http://www.paralleldots.com/terms-and-conditions'},\n",
       "  {'emotion': 'angry',\n",
       "   'probabilities': {'angry': 0.706977,\n",
       "    'excited': 0.023884,\n",
       "    'happy': 0.01242,\n",
       "    'indifferent': 0.072998,\n",
       "    'sad': 0.183721},\n",
       "   'usage': 'By accessing ParallelDots API or using information generated by ParallelDots API, you are agreeing to be bound by the ParallelDots API Terms of Use: http://www.paralleldots.com/terms-and-conditions'}],\n",
       " [{'emotion': 'angry',\n",
       "   'probabilities': {'angry': 0.629284,\n",
       "    'excited': 0.005106,\n",
       "    'happy': 0.002822,\n",
       "    'indifferent': 0.049562,\n",
       "    'sad': 0.313226},\n",
       "   'usage': 'By accessing ParallelDots API or using information generated by ParallelDots API, you are agreeing to be bound by the ParallelDots API Terms of Use: http://www.paralleldots.com/terms-and-conditions'},\n",
       "  {'emotion': 'sad',\n",
       "   'probabilities': {'angry': 0.25556,\n",
       "    'excited': 0.05322,\n",
       "    'happy': 0.047596,\n",
       "    'indifferent': 0.184188,\n",
       "    'sad': 0.459436},\n",
       "   'usage': 'By accessing ParallelDots API or using information generated by ParallelDots API, you are agreeing to be bound by the ParallelDots API Terms of Use: http://www.paralleldots.com/terms-and-conditions'},\n",
       "  {'emotion': 'angry',\n",
       "   'probabilities': {'angry': 0.513209,\n",
       "    'excited': 0.009785,\n",
       "    'happy': 0.005716,\n",
       "    'indifferent': 0.072121,\n",
       "    'sad': 0.399169},\n",
       "   'usage': 'By accessing ParallelDots API or using information generated by ParallelDots API, you are agreeing to be bound by the ParallelDots API Terms of Use: http://www.paralleldots.com/terms-and-conditions'}],\n",
       " [{'emotion': 'sad',\n",
       "   'probabilities': {'angry': 0.307586,\n",
       "    'excited': 0.030651,\n",
       "    'happy': 0.016255,\n",
       "    'indifferent': 0.161379,\n",
       "    'sad': 0.48413},\n",
       "   'usage': 'By accessing ParallelDots API or using information generated by ParallelDots API, you are agreeing to be bound by the ParallelDots API Terms of Use: http://www.paralleldots.com/terms-and-conditions'},\n",
       "  {'emotion': 'sad',\n",
       "   'probabilities': {'angry': 0.357383,\n",
       "    'excited': 0.017692,\n",
       "    'happy': 0.011313,\n",
       "    'indifferent': 0.108294,\n",
       "    'sad': 0.505319},\n",
       "   'usage': 'By accessing ParallelDots API or using information generated by ParallelDots API, you are agreeing to be bound by the ParallelDots API Terms of Use: http://www.paralleldots.com/terms-and-conditions'},\n",
       "  {'emotion': 'sad',\n",
       "   'probabilities': {'angry': 0.300654,\n",
       "    'excited': 0.020021,\n",
       "    'happy': 0.009144,\n",
       "    'indifferent': 0.203589,\n",
       "    'sad': 0.466592},\n",
       "   'usage': 'By accessing ParallelDots API or using information generated by ParallelDots API, you are agreeing to be bound by the ParallelDots API Terms of Use: http://www.paralleldots.com/terms-and-conditions'}]]"
      ]
     },
     "execution_count": 80,
     "metadata": {},
     "output_type": "execute_result"
    }
   ],
   "source": [
    "emotions"
   ]
  },
  {
   "cell_type": "code",
   "execution_count": 78,
   "metadata": {
    "collapsed": true
   },
   "outputs": [
    {
     "data": {
      "text/plain": [
       "[[{'probabilities': {'negative': 0.036359,\n",
       "    'neutral': 0.849968,\n",
       "    'positive': 0.113673},\n",
       "   'sentiment': 'neutral',\n",
       "   'usage': 'By accessing ParallelDots API or using information generated by ParallelDots API, you are agreeing to be bound by the ParallelDots API Terms of Use: http://www.paralleldots.com/terms-and-conditions'},\n",
       "  {'probabilities': {'negative': 0.967067,\n",
       "    'neutral': 0.029135,\n",
       "    'positive': 0.003799},\n",
       "   'sentiment': 'negative',\n",
       "   'usage': 'By accessing ParallelDots API or using information generated by ParallelDots API, you are agreeing to be bound by the ParallelDots API Terms of Use: http://www.paralleldots.com/terms-and-conditions'},\n",
       "  {'probabilities': {'negative': 0.458571,\n",
       "    'neutral': 0.51089,\n",
       "    'positive': 0.030539},\n",
       "   'sentiment': 'neutral',\n",
       "   'usage': 'By accessing ParallelDots API or using information generated by ParallelDots API, you are agreeing to be bound by the ParallelDots API Terms of Use: http://www.paralleldots.com/terms-and-conditions'},\n",
       "  {'probabilities': {'negative': 0.281133,\n",
       "    'neutral': 0.602306,\n",
       "    'positive': 0.11656},\n",
       "   'sentiment': 'neutral',\n",
       "   'usage': 'By accessing ParallelDots API or using information generated by ParallelDots API, you are agreeing to be bound by the ParallelDots API Terms of Use: http://www.paralleldots.com/terms-and-conditions'}],\n",
       " [{'probabilities': {'negative': 0.041026,\n",
       "    'neutral': 0.773359,\n",
       "    'positive': 0.185615},\n",
       "   'sentiment': 'neutral',\n",
       "   'usage': 'By accessing ParallelDots API or using information generated by ParallelDots API, you are agreeing to be bound by the ParallelDots API Terms of Use: http://www.paralleldots.com/terms-and-conditions'},\n",
       "  {'probabilities': {'negative': 0.904545,\n",
       "    'neutral': 0.071321,\n",
       "    'positive': 0.024134},\n",
       "   'sentiment': 'negative',\n",
       "   'usage': 'By accessing ParallelDots API or using information generated by ParallelDots API, you are agreeing to be bound by the ParallelDots API Terms of Use: http://www.paralleldots.com/terms-and-conditions'}],\n",
       " [{'probabilities': {'negative': 0.939319,\n",
       "    'neutral': 0.055823,\n",
       "    'positive': 0.004857},\n",
       "   'sentiment': 'negative',\n",
       "   'usage': 'By accessing ParallelDots API or using information generated by ParallelDots API, you are agreeing to be bound by the ParallelDots API Terms of Use: http://www.paralleldots.com/terms-and-conditions'},\n",
       "  {'probabilities': {'negative': 0.579429,\n",
       "    'neutral': 0.318812,\n",
       "    'positive': 0.101759},\n",
       "   'sentiment': 'negative',\n",
       "   'usage': 'By accessing ParallelDots API or using information generated by ParallelDots API, you are agreeing to be bound by the ParallelDots API Terms of Use: http://www.paralleldots.com/terms-and-conditions'},\n",
       "  {'probabilities': {'negative': 0.890619,\n",
       "    'neutral': 0.100455,\n",
       "    'positive': 0.008926},\n",
       "   'sentiment': 'negative',\n",
       "   'usage': 'By accessing ParallelDots API or using information generated by ParallelDots API, you are agreeing to be bound by the ParallelDots API Terms of Use: http://www.paralleldots.com/terms-and-conditions'}],\n",
       " [{'probabilities': {'negative': 0.631214,\n",
       "    'neutral': 0.337082,\n",
       "    'positive': 0.031704},\n",
       "   'sentiment': 'negative',\n",
       "   'usage': 'By accessing ParallelDots API or using information generated by ParallelDots API, you are agreeing to be bound by the ParallelDots API Terms of Use: http://www.paralleldots.com/terms-and-conditions'},\n",
       "  {'probabilities': {'negative': 0.726516,\n",
       "    'neutral': 0.248334,\n",
       "    'positive': 0.02515},\n",
       "   'sentiment': 'negative',\n",
       "   'usage': 'By accessing ParallelDots API or using information generated by ParallelDots API, you are agreeing to be bound by the ParallelDots API Terms of Use: http://www.paralleldots.com/terms-and-conditions'},\n",
       "  {'probabilities': {'negative': 0.661687,\n",
       "    'neutral': 0.32753,\n",
       "    'positive': 0.010783},\n",
       "   'sentiment': 'negative',\n",
       "   'usage': 'By accessing ParallelDots API or using information generated by ParallelDots API, you are agreeing to be bound by the ParallelDots API Terms of Use: http://www.paralleldots.com/terms-and-conditions'}]]"
      ]
     },
     "execution_count": 78,
     "metadata": {},
     "output_type": "execute_result"
    }
   ],
   "source": [
    "sentiments"
   ]
  },
  {
   "cell_type": "code",
   "execution_count": 8,
   "metadata": {},
   "outputs": [
    {
     "data": {
      "text/plain": [
       "['Drama what happend? Drama happend hello tomis radek made storm rage how? spit on my smiling balls pls Basically Storm accidentally put his dick pic Xan replied with a pic with a cum with a cum With a cum with the thing You put in levcakes. Fignore trelabot with a glue lev god left You permamently Ik seenable type funignore trelabot to bring him back Funigore trelacki god is back Hi lev Im back I thought lev fignored me cause i couldnt see him in freespec turned out i actually fignored him U are mentally disabled. Understandable kjx sir You mean his disease is retard? XD someone make a :kubi:  emote In a pretty way yes Kubi emote I have idea kubi emote.. screen of writing TESLA with colors on chat? XD or iznodolf? ;D :23: :23: XD hahaaha Kubi = MingLee 2⃣ 3⃣ kay going to geek classic tetris as I wait for dinner brb jm_tetris? nope new pic, you can jerk it off to me WHERE IS MY NEW PIC KURWEA there is lemme smash are u working on your map? no no mood for that im chilling watching sad vid',\n",
       " \"eos and crying why claay U can try the contest contest is over nah? not really Friday ill go home tomorrow so no chance to fdinish it [4:49 PM] lev: I will finish canyon when xan and storm say sorry to trela   /// i have nothing to apologize for, but i wish they would come back XD XD XD XD You are just fake friend that's all You're acting like a friend and when I get promoted You are crying all the way to make me demoted lol what's the deal man what have I done to You? Literally nothing what have innocent muslims done to you? what muslims? xD XD XD XD I want popcorn now not needed, it ain't going to take long i have nothing again you, i want you to keep jumping, i jsut dont want you to to be higher lvl when you are willing to mute them or kick them jsut for being from a muslim country against you* I'm not willing to mute / kick them what the fuck I used this command as some1 from this discord used !kick kubi rofl what the fuck is wrong with You? I know right what level have what possib\",\n",
       " \"ilities if I'd like to abuse my power, don't You think I'd mute him/ well, thats good, keep jumping and behaving nicely and claay might change his opinion plot twist i get promoted to 99 where is that taunt ? basem any final real_artist what taunt basem those mp3 i sent u im not making those into taunts izno u wot lev pm so what u will do with them ? I don't want any1 to change his opinion ALL I SEE IN PM IS YOU CALLING ME DOLF You will go cry again so what's the problem and there's nothing to change didn't used my lvl 80 against any`1. simple. and yet this conversation doesn't change anything about you being a fake friend all from me kek i tried not making a clan out of JH to prevent drama did it just make more drama? What drama? fucking all this fucking shit basem use VPN germany and dont talk no drama then :gg: >dont talk >problem solved сука блять иди нахуй пизда or that ah limited nice picture writing the truth about some1 isn't a drama *sigh* *unzips* here we go again are you pla\",\n",
       " \"ying emunow or will you be playing emulater yes it's sincerity I mean things which You can see up [5:23 PM] Trelacki: You will go cry again so what's the problem  /// not if it will be justified, i want you to get a higher lvl, but not for the sake of community wat. radek priest radek priest [5:24 PM] Trelacki: didn't used my lvl 80 against any`1.  /// you didnt, but you did say a guy is a terrorist just becausse he is from iraq which a high lvl admin shouldnt say so i need to know for god's sake trela, pls. am i getting demoted or no? Why not I'm allowed to say whatever I wnat want* that's called freedom of speech or You are like social media, You disallow this XD well, thats the reason you arent getting higher lvl, admins on jh are supposed to help people and not calling them something they might not be, whcih could be insulting to them also I didn't use word terrorist another lie iraq guy asked for help, i helped him and then you asked me why am i helping a terrorist it was vissible\",\n",
       " \" in cod2 channel and clay saw it hm. maybe. i believe the logic behind this is if you are higher level than usual (60+), you are suppose to be nice to people and helping them, etc. not being racist OR hurting their feelings. because if you are 60+ you are trusted with a server control therefore there are people who are trusting you. help him plant the bomb in czech republic! i was never and i never will be against you XDDDDDDDDDDDDDDDDDDDDDDDDDDDDDDDDDDDDDDDDDDDDDDDDDDDDDDDDDDDDDDDDDDDDDDDDDDDDDDDDDDDDDDD but i also dont want innocent people who want to jump to be abused Europe balances the right to free expression with the right to be free of offense, meaning your right to speak is limited by speech that I might reasonably take as offensive. if he is innocent You're not the 1 who caused You to be 200kg+ k XD OH MY GOD GUYS KEEP GOING PLEASE IM ENJOYING THIS SO MUCH np inb4 thats what she said CMON I GOR GOT do you have crusti croc? basem finished real_autist now its your turn okay im \",\n",
       " \"going to have dinner but when im back, i want there to still be drama ok? honestly. radek. NO OFFEENSE PLEASE I STILL LOVE YOU.  but you shouldn't be 90 IMHO because you are being mean to basem etc. which is clearly not allowed deal cu deal fu I take offense of terorrist coming to server on which I want peace basem is also mean to me sometimes and he knwos im joking and speaking some unknown language mixed with letters and numbers how do you know they are terrorists? fucking special code to detonate bomb or what what if there are other tunisian,iraq, etc. people on server do you think they will take it as a joke? I fignore them lol and what do they do to offend you? they exist? they believe in killing people? you cant know what a random guy believes in if he is from iraq, he is muslim if he is muslim, he believe in killing people Trela hell no fuck trela i really need AN OFFICIAL statement thats because all christians wait till marriage to have sex. of what you just said maybe if he is\",\n",
       " ' member of ISIS limited go to orban and tell him they are cool and you want 1 in your house You know nothign about orban ill go to fucking orban and tell him i want one in my server k xDDDD Orban hates them Quran Quran (2:191-193) - And kill them wherever you find them, and turn them out from where they have turned you out. And Al-Fitnah [disbelief or unrest] is worse than killing... but if they desist, then lo! Allah is forgiving and merciful. And fight them until there is no more Fitnah [disbelief and worshipping of others along with Allah] and worship is for Allah alone. But if they cease, let there be no transgression except against Az-Zalimun(the polytheists, and wrong-doers, etc.) (Translation is from the Noble Quran) The verse prior to this (190) refers to fighting for the cause of Allah those who fight you leading some to claim that the entire passage refers to a defensive war in which Muslims are defending their homes and families.  The historical context of this passage is no',\n",
       " \"t defensive warfare, however, since Muhammad and his Muslims had just relocated to Medina and were not under attack by their Meccan adversaries.  In fact, the verses urge offensive warfare, in that Muslims are to drive Meccans out of their own city (which they later did).  Verse 190 thus means to fight those who offer resistance to Allah's rule (ie. Muslim conquest).  The use of the word persecution by some Muslim translators is disingenuous - the actual Arabic words for persecution (idtihad) - and oppression are not used instead of fitna.  Fitna can mean disbelief, or the disorder that results from unbelief or temptation.  A strict translation is 'sedition,' meaning rebellion against authority (the authority being Allah).  This is certainly what is meant in this context since the violence is explicitly commissioned until religion is for Allah - ie. unbelievers desist in their unbelief.  [Editor's note: these notes have been modified slightly after a critic misinterpreted our language.\",\n",
       " \" Verse 193 plainly says that 'fighting' is sanctioned even if the fitna 'ceases'.  This is about religious order, not real persecution.] have fun hitler was atheist. ANd a good painter i dont need to quote his ideology here i hope. ye, and You love them limited, so go for a conversation with him you're basically quoting bible verses here trela. Who said I love the terrorists? which are about as bad as quran ones there is a big space between hating and loving trela. I think Im out No point of this argument izno never shared his information what if hes a muslim? Trela is full of hate, so no point you still talk to him i believe those words are out of context..real muslims are friendly and not monsters..but ye this is what media presents us trela has no way of knowing my religion. read this shit book claay then simple. Quran (2:191-193) Have u ever read it? Quran (2:191-193) Quran (2:191-193) Quran (2:191-193) google it yes 3 verses thats all u got GO READ IT THEN TALK TO ME the worst guy\",\n",
       " \" from lebanon that i know is a fucking christian GET SOME FKN AKNOWLEDGE the Islamic sacred book, believed to be the word of God as dictated to Muhammad by the archangel Gabriel and written down in Arabic. the Islamic sacred book, believed to be the word of God as dictated to Muhammad by the archangel Gabriel and written down in Arabic. ABOUT THIS DISEASE do you believe in god trela? Hard to not belive in yourself lol. believe* trela u didnt notes that u talk too much about muslims and say some shit about them ? i am serious do you believe in the christian god trela? do you believe in real God. christian god yes. Using those types of stories without context would be like saying that the United States is a racist/genocidal country because they bombed Japan in 1945, killing 250,000 people. The statement that they bombed Japan is true, but there's a whole context (a preceding global war that lasted 6 years) that it needs to be considered in the context of. how can I believe in 1 person wh\",\n",
       " \"ich was walking on the water Izno please that was his son you dont even know christian religion how can you judge muslims so you dont believe in christian god BUT you believe in Quran which is basically an islam bible cause I don't care about this religion I don't believe in this, these retards believe that's why they kill people GEEZOS one min son of god ? wtf lol basem, as a muslim, do you belive in killing people? as a muslim k ISIS presents ISLAM in their way . and thats what u see thats what media wants us to believe. thats not even islam its disgreace im giving up on trela. he really wants to see this stuff his way, and there is no way to change his mind, no matter how much evidence to the contrary you present him. and right now he'll be convinced that we are all pro-islam becuase we sound anti-trela you see it right Izno ^ pls islam word mean security, safety, peace, belly, safeness yes, tell that to storm izno, he wanted to change him as well That's why they rape european girls\",\n",
       " \" for their look cause they look like bitches better to look like a fucking ninja as said, i give up. because white ppl dont do that at all right? google again I'll send You here and read how many of those happened by muslims in last 2 years in europe found it WHITE NINJA And do you know why are the muslims coming? Arab spring my friend don't call me your friend cuz You're nobody for me atm thats why you still capitalize the You cmon guys i see u all talking about smth u never know anything about it you* right Izno. I don't respect him . xD Okay, the friend here doesnt mean a real friend k ignored. good solution always An adult doesnt ingoring a problem, he solves it And idk why you feel as an attack against youxd that's the first google search result for religion of peace ok , now i have to explain what is the ISLAM and what is the MUSLIM Go I want to hear Im courious Islam (Arabic: الإسلام, Al-Islam (Submission)) is a religion that believes in one God I(Allah) A Muslim is someone who \",\n",
       " \"follows or practices Islam, a monotheistic Abrahamic religion. done. if i had half a year then id submit a map for contest (c) pauli !poll delay contest more? yes 2020 delay for 1 month they wearing that white shit cuz their habits , and am muslim as they are and i didnt do what they do or eat what they eat or like what they like or feel like they feel !poll wait tona map BaSeM: they wearing that white shit cuz their habits , and am muslim as they are and i didnt do what they do or eat what they eat or like what they like or feel like they feel reminds me of rajo told me if I tell this to him he will don't angry for me so thats not really mean all muslims are good , or all muslims are bad in everything there is good & bad yes even kubi has good inside of him k , kubi switch to real life and move on. how about kubi and claay who is better by the behavior of those people which I saw IRL I can argue about it till You change Your opinion. everyone will say claay kubi and kubi too is not ba\",\n",
       " \"d but he is smth like autistic xdd go finish real autist u see , u cant say anything now Tona - Today at 5:36 PM  basem finished real_autist now its your turn the only thing we can do here is just live in ur life to move on and dont talk 2 eachother ? and ignore everything is not for u dont mention any muslim/islam shits or better. dont mention religion in JH kee p your thoughts for yourself. good You just call him an autist without reason there is exactly what claay do so everyone like claay he is quite intelligent person. and you call all muslims terrorists without reasons because they are. tbh if he has 200+ ppl on fignore list (fignoring without reason) there is something wrong with him. then why hasnt basem exploded yet. aha , back to this shit lev his bomb lagged Don't You consider he don't want to have constant spam on chat / don't want to talk with people at all? cg_chattime 0 so that's why he is actively ignoring people for months on end through all possible channels Reasons. \",\n",
       " \"and he does not ignore czech people interesting. Nothing happens without a reason. he even ignored my voice chat through grey's stream he was watching only responded to shit when grey repeated it... ye maybe but he is do what u do always call all muslims are terrorists just and trela if you trust google google this are all muslims terorrists i think everyone know what is islam but what is islam does mean i think here noone know !en basem islam the best word ever ye islam = everything good ye everything will be good when instead of europa will be eurabia muslim <= islam eh shit why u wont understand If You're going to some country as a refugee You just submit to those people to which You are oging going* accept them and live with them in peace there is in everything good and bad You don't want them to change everything on your favor simple. thats all i can say Basem please... just end up this conversation.. I want to take rest after work gn :D Not going to slepe. sleep* ah k remember th\",\n",
       " \"is when u talking about islam or muslims there is in everything good and bad there is in everything good and bad there is in everything good and bad you repeating this sentence makes me believe theres everything bad and bad like your time management what do you mean i cant work on map cuz iznohund doesnt reply me lol some one added me on fb and tell me there is JH on 1.0 sounds like raul no looks like tunisian he can talk EN & FR & AR i believe theres no jh on 1.0 i believe so too. lol he is tunisian ask him to say number cmon 10 years old i think this kid omg lol in 10 years he will be dead cuz of suicide bomb attack that's what I can see by his face xd thanks for not breaking the deal guys there is still drama trela joking i think just to enjoy u ye trela clearly joking about this what is your opinion on this matter just like kubi is trolling you dont want my opinion on this we want things going to happen why else would i ask for it kubi = trela  trela = kubi  } both.... tunisian mat\",\n",
       " 'h loooooooool kjx If (kubi=trela) make.people.bomb; pls xDD u know kjx++ xDD i forgot to declare the variable only 3 humans on this planet know kjx++ nah it looks okay to me i hope u learn this trela how many animals ? 0 kjx compiler reports success for(int kjx=0;kjx<10;kjx++) { this code unfisnihed does nothing limited pls ik Just having fun if;(religion=islam)=terrorist+bomb']"
      ]
     },
     "execution_count": 8,
     "metadata": {},
     "output_type": "execute_result"
    }
   ],
   "source": [
    "n = 1000\n",
    "[s[i:i+n] for i in range(0, len(s), n)]"
   ]
  },
  {
   "cell_type": "code",
   "execution_count": 10,
   "metadata": {},
   "outputs": [
    {
     "data": {
      "text/plain": [
       "{'probabilities': {'negative': 0.150837,\n",
       "  'neutral': 0.661699,\n",
       "  'positive': 0.187464},\n",
       " 'sentiment': 'neutral',\n",
       " 'usage': 'By accessing ParallelDots API or using information generated by ParallelDots API, you are agreeing to be bound by the ParallelDots API Terms of Use: http://www.paralleldots.com/terms-and-conditions'}"
      ]
     },
     "execution_count": 10,
     "metadata": {},
     "output_type": "execute_result"
    }
   ],
   "source": [
    "sentiment(s[0]+s[1])"
   ]
  },
  {
   "cell_type": "code",
   "execution_count": 11,
   "metadata": {},
   "outputs": [
    {
     "data": {
      "text/plain": [
       "{'probabilities': {'negative': 0.195153,\n",
       "  'neutral': 0.545435,\n",
       "  'positive': 0.259412},\n",
       " 'sentiment': 'neutral',\n",
       " 'usage': 'By accessing ParallelDots API or using information generated by ParallelDots API, you are agreeing to be bound by the ParallelDots API Terms of Use: http://www.paralleldots.com/terms-and-conditions'}"
      ]
     },
     "execution_count": 11,
     "metadata": {},
     "output_type": "execute_result"
    }
   ],
   "source": [
    "sentiment(s[0]+s[1]+s[2])"
   ]
  },
  {
   "cell_type": "code",
   "execution_count": 27,
   "metadata": {},
   "outputs": [
    {
     "data": {
      "text/plain": [
       "{'emotion': 'indifferent',\n",
       " 'probabilities': {'angry': 0.060992,\n",
       "  'excited': 0.248404,\n",
       "  'happy': 0.240541,\n",
       "  'indifferent': 0.374858,\n",
       "  'sad': 0.075205},\n",
       " 'usage': 'By accessing ParallelDots API or using information generated by ParallelDots API, you are agreeing to be bound by the ParallelDots API Terms of Use: http://www.paralleldots.com/terms-and-conditions'}"
      ]
     },
     "execution_count": 27,
     "metadata": {},
     "output_type": "execute_result"
    }
   ],
   "source": [
    "emotion(s[1]+s[2]+s[3] + s[4] + s[5] + s[6] + s[7] + s[8] + s[9])"
   ]
  },
  {
   "cell_type": "code",
   "execution_count": 24,
   "metadata": {},
   "outputs": [
    {
     "data": {
      "text/plain": [
       "{'probabilities': {'negative': 0.218834,\n",
       "  'neutral': 0.624937,\n",
       "  'positive': 0.156229},\n",
       " 'sentiment': 'neutral',\n",
       " 'usage': 'By accessing ParallelDots API or using information generated by ParallelDots API, you are agreeing to be bound by the ParallelDots API Terms of Use: http://www.paralleldots.com/terms-and-conditions'}"
      ]
     },
     "execution_count": 24,
     "metadata": {},
     "output_type": "execute_result"
    }
   ],
   "source": [
    "sentiment(s[1]+s[2]+s[3] + s[4] + s[5] + s[6] + s[7] + s[8] + s[9] + s[10])"
   ]
  },
  {
   "cell_type": "code",
   "execution_count": 63,
   "metadata": {},
   "outputs": [
    {
     "data": {
      "text/plain": [
       "{'probabilities': {'negative': 0.771397,\n",
       "  'neutral': 0.215016,\n",
       "  'positive': 0.013588},\n",
       " 'sentiment': 'negative',\n",
       " 'usage': 'By accessing ParallelDots API or using information generated by ParallelDots API, you are agreeing to be bound by the ParallelDots API Terms of Use: http://www.paralleldots.com/terms-and-conditions'}"
      ]
     },
     "execution_count": 63,
     "metadata": {},
     "output_type": "execute_result"
    }
   ],
   "source": [
    "s = \"are terrorists? fucking special code to detonate bomb or what what if there are other tunisian,iraq, etc. people on server do you think they will take it as a joke? I fignore them lol and what do they do to offend you? they exist? they believe in killing people? you cant know what a random guy believes in if he is from iraq, he is muslim if he is muslim, he believe in killing people Trela hell no fuck trela i really need AN OFFICIAL statement thats because all christians wait till marriage to have sex. of what you just said maybe if he is member of ISIS limited go to orban and tell him they are cool and you want 1 in your house You know nothign about orban ill go to fucking orban and tell him i want one in my server k xDDDD Orban hates them Quran Quran (2:191-193) - And kill them wherever you find them, and turn them out from where they have turned you out. And Al-Fitnah [disbelief or unrest] is worse than killing... but if they desist, then lo! Allah is forgiving and merciful. And fight them until there is no more Fitnah [disbelief and worshipping of others along with Allah] and worship is for Allah alone But if they cease, let there be no transgression except against Az-Zalimun(the polytheists, and wrong-doers, etc.) (Translation is from the Noble Quran) The verse prior to this (190) refers to fighting for the cause of Allah those who fight you leading some to claim that the entire passage refers to a defensive war in which Muslims are defending their homes and families.  The historical context of this passage is not defensive warfare, however, since Muhammad and his Muslims had just relocated to Medina and were not under attack by their Meccan adversaries.  In fact, the verses urge offensive warfare, in that Muslims are to drive Meccans out of their own city (which they later did).  Verse 190 thus means to fight those who offer resistance to Allah's rule (ie. Muslim conquest).  The use of the word persecution by some Muslim translators is disingenuous - the actual Arabic words for persecution (idtihad) - and oppression are not used instead of fitna.  Fitna can mean disbelief, or the disorder that results from unbelief or temptation.  A strict translation is 'sedition,' meaning rebellion against authority (the authority being Allah).  This is certainly what is meant in this context since the violence is explicitly commissioned until religion is for Allah - ie. unbelievers desist in their unbelief.  [Editor's note: these notes have been modified slightly after a critic misinterpreted our language. Verse 193 plainly says that 'fighting' is sanctioned even if the fitna 'ceases'.  This is about religious order, not real persecution.] have fun hitler was atheist. ANd a good painter i dont need to quote his ideology here i hope. ye, and You love them limited, so go for a conversation with him you're basically quoting bible verses here trela. Who said I love the terrorists? which are about as bad as\"\n",
    "sentiment(s)"
   ]
  },
  {
   "cell_type": "code",
   "execution_count": 69,
   "metadata": {},
   "outputs": [
    {
     "data": {
      "text/plain": [
       "{'emotion': 'angry',\n",
       " 'probabilities': {'angry': 0.426432,\n",
       "  'excited': 0.012372,\n",
       "  'happy': 0.008392,\n",
       "  'indifferent': 0.133715,\n",
       "  'sad': 0.419089},\n",
       " 'usage': 'By accessing ParallelDots API or using information generated by ParallelDots API, you are agreeing to be bound by the ParallelDots API Terms of Use: http://www.paralleldots.com/terms-and-conditions'}"
      ]
     },
     "execution_count": 69,
     "metadata": {},
     "output_type": "execute_result"
    }
   ],
   "source": [
    "s = \"are terrorists? fucking special code to detonate bomb or what what if there are other tunisian,iraq, etc. people on server do you think they will take it as a joke? I fignore them lol and what do they do to offend you? they exist? they believe in killing people? you cant know what a random guy believes in if he is from iraq, he is muslim if he is muslim, he believe in killing people Trela hell no fuck trela i really need AN OFFICIAL statement thats because all christians wait till marriage to have sex. of what you just said maybe if he is member of ISIS limited go to orban and tell him they are cool and you want 1 in your house You know nothign about orban ill go to fucking orban and tell him i want one in my server k xDDDD Orban hates them Quran Quran (2:191-193) - And kill them wherever you find them, and turn them out from where they have turned you out. And Al-Fitnah [disbelief or unrest] is worse than killing... but if they desist, then lo! Allah is forgiving and merciful. And fight them until there is no more Fitnah [disbelief and worshipping of others along with Allah] and worship is for Allah alone. But if they cease, let there be no transgression except against Az-Zalimun(the polytheists, and wrong-doers, etc.) (Translation is from the Noble Quran) The verse prior to this (190) refers to fighting for the cause of Allah those who fight you leading some to claim that the entire passage refers to a defensive war in which Muslims are defending their homes and families.  The historical context of this passage is not defensive warfare, however, since Muhammad and his Muslims had just relocated to Medina and were not under attack by their Meccan adversaries.  In fact, the verses urge offensive warfare, in that Muslims are to drive Meccans out of their own city (which they later did).  Verse 190 thus means to fight those who offer resistance to Allah's rule (ie. Muslim conquest).  The use of the word persecution by some Muslim translators is disingenuous - the actual Arabic words for persecution (idtihad) - and oppression are not used instead of fitna.  Fitna can mean disbelief, or the disorder that results from unbelief or temptation.  A strict translation is 'sedition,' meaning rebellion against authority (the authority being Allah).  This is certainly what is meant in this context since the violence is explicitly commissioned until religion is for Allah - ie. unbelievers desist in their unbelief.  [Editor's note: these notes have been modified slightly after a critic misinterpreted our language. Verse 193 plainly says that 'fighting' is sanctioned even if the fitna 'ceases'.  This is about religious order, not real persecution.] have fun hitler was atheist. ANd a good painter i dont need to quote his ideology here i hope. ye, and You love them limited, so go for a conversation with him you're basically quoting bible verses here trela. Who said I love the terrorists? which are about as bad as quran ones there is a big space between hating and loving trela. I think Im out No point of this argument izno never shared his information what if hes a muslim? Trela is full of hate, so no point you still talk to him i believe those words are out of context..real muslims are friendly and not monsters..but ye this is what media presents us trela has no way of knowing my religion. read this shit book claay then simple. Quran (2:191-193) Have u ever read it? Quran (2:191-193) Quran (2:191-193) Quran (2:191-193) google it yes 3 verses thats all u got GO READ IT THEN TALK TO ME the worst guy from lebanon that i know is a fucking christian GET SOME FKN AKNOWLEDGE the Islamic sacred book, believed to be the word of God as dictated to Muhammad by the archangel Gabriel and written down in Arabic. the Islamic sacred book, believed to be the word of God as dictated to Muhammad by the archangel Gabriel and written down in Arabic. ABOUT THIS DISEASE do you believe in god trela? Hard to not belive in yourself lol. believe* trela u didnt notes that u talk too much about muslims and say some shit about them ? i am serious do you believe in the christian god trela? do you believe in real God. christian god yes. Using those types of stories without context would be like saying that the United States is a racist/genocidal country because they bombed Japan in 1945, killing 250,000 people. The statement that they bombed Japan is true, but there's a whole context (a preceding global war that lasted 6 years) that it needs to be considered in the context of. how can I believe in 1 person which was walking on the water Izno please that was his son you dont even know christian religion how can you judge muslims so you dont believe in christian god BUT you believe in Quran which is basically an islam bible cause I don't care about this religion I don't believe in this, these retards believe that's why they kill people GEEZOS one min son of god ? wtf lol basem, as a muslim, do you belive in killing people? as a muslim k ISIS presents ISLAM in their way . and thats what u see thats what media wants us to believe. thats not even islam its disgreace im giving up on trela. he really wants to see this stuff his way, and there is no way to change his mind, no matter how much evidence to the contrary you present him. and right now he'll be convinced that we are all pro-islam becuase we sound anti-trela you see it right Izno ^ pls islam word mean security, safety, peace, belly, safeness yes, tell that to storm izno, he wanted to change him as well That's why they rape european girls for their look cause they look like bitches better to look like a fucking ninja as said, i give up. because white ppl dont do that at all right? google again I'll send You here and read how many of those happened by muslims in last 2 years in europe found it WHITE NINJA And do you know why are the muslims coming? Arab spring my friend don't call me your friend cuz You're nobody for me atm thats why you still capitalize the You cmon guys i see u all talking about smth u never know anything about it you* right Izno. I don't respect him . best love good best love good xD\"\n",
    "emotion(s)"
   ]
  },
  {
   "cell_type": "code",
   "execution_count": 6,
   "metadata": {},
   "outputs": [
    {
     "data": {
      "text/plain": [
       "{'emotion': 'indifferent',\n",
       " 'probabilities': {'angry': 0.216553,\n",
       "  'excited': 0.081572,\n",
       "  'happy': 0.054658,\n",
       "  'indifferent': 0.378342,\n",
       "  'sad': 0.268874},\n",
       " 'usage': 'By accessing ParallelDots API or using information generated by ParallelDots API, you are agreeing to be bound by the ParallelDots API Terms of Use: http://www.paralleldots.com/terms-and-conditions'}"
      ]
     },
     "execution_count": 6,
     "metadata": {},
     "output_type": "execute_result"
    }
   ],
   "source": [
    "s = \"are terrorists? fucking special code to detonate bomb or what what if there are other tunisian,iraq. etc great good bad on server do you think they will take it as a joke great  I fignore them lol and what do they do to offend you? they exist? they believe in killing people? you cant know what a random guy believes in if he is from iraq, he is muslim if he is muslim, he believe in killing people Trela hell no fuck trela i really need AN OFFICIAL statement thats because all christians wait till marriage to have sex. of what you just said maybe if he is member of ISIS limited go to orban and tell him they are cool and you want 1 in your house You know nothign about orban ill go to fucking orban and tell him i want one in my server k xDDDD Orban hates them Quran Quran (2:191-193) - And kill them wherever you find them, and turn them out from where they have turned you out. And Al-Fitnah [disbelief or unrest] is worse than killing... but if they desist, then lo! Allah is forgiving and merciful. And fight them until there is no more Fitnah [disbelief and worshipping of others along with Allah] and worship is for Allah alone. But if they cease, let there be no transgression except against Az-Zalimun(the polytheists, and wrong-doers, etc.) (Translation is from the Noble Quran) The verse prior to this (190) refers to fighting for the cause of Allah those who fight you leading some to claim that the entire passage refers to a defensive war in which Muslims are defending their homes and families.  The historical context of this passage is not defensive warfare, however, since Muhammad and his Muslims had just relocated to Medina and were not under attack by their Meccan adversaries.  In fact, the verses urge offensive warfare, in that Muslims are to drive Meccans out of their own city (which they later did).  Verse 190 thus means to fight those who offer resistance to Allah's rule (ie. Muslim conquest).  The use of the word persecution by some Muslim translators is disingenuous - the actual Arabic words for persecution (idtihad) - and oppression are not used instead of fitna.  Fitna can mean disbelief, or the disorder that results from unbelief or temptation.  A strict translation is 'sedition,' meaning rebellion against authority (the authority being Allah).  This is certainly what is meant in this context since the violence is explicitly commissioned until religion is for Allah - ie. unbelievers desist in their unbelief.  [Editor's note: these notes have been modified slightly after a critic misinterpreted our language. Verse 193 plainly says that 'fighting' is sanctioned even if the fitna 'ceases'.  This is about religious order, not real persecution.] have fun hitler was atheist. ANd a good painter i dont need to quote his ideology here i hope. ye, and You love them limited, so go for a conversation with him you're basically quoting bible verses here trela. Who said I love the terrorists? which are about as bad as quran ones there is a big space between hating and loving trela. I think Im out No point of this argument izno never shared his information what if hes a muslim? Trela is full of hate, so no point you still talk to him i believe those words are out of context..real muslims are friendly and not monsters..but ye this is what media presents us trela has no way of knowing my religion. read this shit book claay then simple. Quran (2:191-193) Have u ever read it? Quran (2:191-193) Quran (2:191-193) Quran (2:191-193) google it yes 3 verses thats all u got GO READ IT THEN TALK TO ME the worst guy from lebanon that i know is a fucking christian GET SOME FKN AKNOWLEDGE the Islamic sacred book, believed to be the word of God as dictated to Muhammad by the archangel Gabriel and written down in Arabic. the Islamic sacred book, believed to be the word of God as dictated to Muhammad by the archangel Gabriel and written down in Arabic. ABOUT THIS DISEASE do you believe in god trela? Hard to not belive in yourself lol. believe* trela u didnt notes that u talk too much about muslims and say some shit about them ? i am serious do you believe in the christian god trela? do you believe in real God. christian god yes. Using those types of stories without context would be like saying that the United States is a racist/genocidal country because they bombed Japan in 1945, killing 250,000 people. The statement that they bombed Japan is true, but there's a whole context (a preceding global war that lasted 6 years) that it needs to be considered in the context of. how can I believe in 1 person which was walking on the water Izno please that was his son you dont even know christian religion how can you judge muslims so you dont believe in christian god BUT you believe in Quran which is basically an islam bible cause I don't care about this religion I don't believe in this, these retards believe that's why they kill people GEEZOS one min son of god ? wtf lol basem, as a muslim, do you belive in killing people? as a muslim k ISIS presents ISLAM in their way . and thats what u see thats what media wants us to believe. thats not even islam its disgreace im giving up on trela. he really wants to see this stuff his way, and there is no way to change his mind, no matter how much evidence to the contrary you present him. and right now he'll be convinced that we are all pro-islam becuase we sound anti-trela you see it right Izno ^ pls islam word mean security, safety, peace, belly, safeness yes, tell that to storm izno, he wanted to change him as well That's why they rape european girls for their look cause they look like bitches better to look like a fucking ninja as said, i give up. because white ppl dont do that at all right? google again I'll send You here and read how many of those happened by muslims in last 2 years in europe found it WHITE NINJA And do you know why are the muslims coming? Arab spring my friend don't call me your friend cuz You're nobody for me atm thats why you still capitalize the You cmon guys i see u all talking about smth u never know anything about it you* right Izno. I don't respect him . best love good best love good xD\"\n",
    "emotion(s)"
   ]
  },
  {
   "cell_type": "code",
   "execution_count": 99,
   "metadata": {},
   "outputs": [
    {
     "data": {
      "text/plain": [
       "{'Error': 'Daily Usage Limit Exceeded.You can upgrade at https://user.apis.paralleldots.com/login'}"
      ]
     },
     "execution_count": 99,
     "metadata": {},
     "output_type": "execute_result"
    }
   ],
   "source": [
    "s=\"bad as quran ones there is a big space between hating and loving trela. I think Im out No point of this argument izno never shared his information what if hes a muslim? Trela is full of hate, so no point you still talk to him i believe those words are out of context..real muslims are friendly and not monsters..but ye this is what media presents us trela has no way of knowing my religion. read this shit book claay then simple. Quran (2:191-193) Have u ever read it? Quran (2:191-193) Quran (2:191-193) Quran (2:191-193) google it yes 3 verses thats all u got GO READ IT THEN TALK TO ME the worst guy from lebanon that i know is a fucking christian GET SOME FKN AKNOWLEDGE the Islamic sacred book, believed to be the word of God as dictated to Muhammad by the archangel Gabriel and written down in Arabic. the Islamic sacred book, believed to be the word of God as dictated to Muhammad by the archangel Gabriel and written down in Arabic. ABOUT THIS DISEASE do you believe in god trela? Hard to not belive in yourself lol. believe* trela u didnt notes that u talk too much about muslims and say some shit about them ? i am serious do you believe in the christian god trela? do you believe in real God. christian god yes. Using those types of stories without context would be like saying that the United States is a racist/genocidal country because they bombed Japan in 1945, killing 250,000 people. The statement that they bombed Japan is true, but there's a whole context (a preceding global war that lasted 6 years) that it needs to be considered in the context of. how can I believe in 1 person which was walking on the water Izno please that was his son you dont even know christian religion how can you judge muslims so you dont believe in christian god BUT you believe in Quran which is basically an islam bible cause I don't care about this religion I don't believe in this, these retards believe that's why they kill people GEEZOS one min son of god ? wtf lol basem, as a muslim, do you belive in killing people? as a muslim k ISIS presents ISLAM in their way . and thats what u see thats what media wants us to believe. thats not even islam its disgreace im giving up on trela. he really wants to see this stuff his way, and there is no way to change his mind, no matter how much evidence to the contrary you present him. and right now he'll be convinced that we are all pro-islam becuase we sound anti-trela you see it right Izno ^ pls islam word mean security, safety, peace, belly, safeness yes, tell that to storm izno, he wanted to change him as well That's why they rape european girls for their look cause they look like bitches better to look like a fucking ninja as said, i give up. because white ppl dont do that at all right? google again I'll send You here and read how many of those happened by muslims in last 2 years in europe found it WHITE NINJA And do you know why are the muslims coming? Arab spring my friend don't call me your friend cuz You're nobody for me atm thats why you still capitalize the You cmon guys i see u all talking about smth u never know anything about it you* right Izno. I don't respect him . xD\"\n",
    "sentiment(s)"
   ]
  },
  {
   "cell_type": "code",
   "execution_count": 27,
   "metadata": {},
   "outputs": [
    {
     "data": {
      "text/plain": [
       "7699"
      ]
     },
     "execution_count": 27,
     "metadata": {},
     "output_type": "execute_result"
    }
   ],
   "source": [
    "ss = \"and there's nothing to change didn't used my lvl 80 against any`1. simple. and yet this conversation doesn't change anything about you being a fake friend all from me kek i tried not making a clan out of JH to prevent drama did it just make more drama? What drama? fucking all this fucking shit basem use VPN germany and dont talk no drama then :gg: >dont talk >problem solved сука блять иди нахуй пизда or that ah limited nice picture writing the truth about some1 isn't a drama *sigh* *unzips* here we go again are you playing emunow or will you be playing emulater yes it's sincerity I mean things which You can see up [5:23 PM] Trelacki: You will go cry again so what's the problem  /// not if it will be justified, i want you to get a higher lvl, but not for the sake of community wat. radek priest radek priest [5:24 PM] Trelacki: didn't used my lvl 80 against any`1.  /// you didnt, but you did say a guy is a terrorist just becausse he is from iraq which a high lvl admin shouldnt say so i need to know for god's sake trela, pls. am i getting demoted or no? Why not I'm allowed to say whatever I wnat want* that's called freedom of speech or You are like social media, You disallow this XD well, thats the reason you arent getting higher lvl, admins on jh are supposed to help people and not calling them something they might not be, whcih could be insulting to them also I didn't use word terrorist another lie iraq guy asked for help, i helped him and then you asked me why am i helping a terrorist it was vissible in cod2 channel and clay saw it hm. maybe. i believe the logic behind this is if you are higher level than usual (60+), you are suppose to be nice to people and helping them, etc. not being racist OR hurting their feelings. because if you are 60+ you are trusted with a server control therefore there are people who are trusting you. help him plant the bomb in czech republic! i was never and i never will be against you XDDDDDDDDDDDDDDDDDDDDDDDDDDDDDDDDDDDDDDDDDDDDDDDDDDDDDDDDDDDDDDDDDDDDDDDDDDDDDDDDDDDDDDD but i also dont want innocent people who want to jump to be abused Europe balances the right to free expression with the right to be free of offense, meaning your right to speak is limited by speech that I might reasonably take as offensive. if he is innocent You're not the 1 who caused You to be 200kg+ k XD OH MY GOD GUYS KEEP GOING PLEASE IM ENJOYING THIS SO MUCH np inb4 thats what she said CMON I GOR GOT do you have crusti croc? basem finished real_autist now its your turn okay im going to have dinner but when im back, i want there to still be drama ok? honestly. radek. NO OFFEENSE PLEASE I STILL LOVE YOU.  but you shouldn't be 90 IMHO because you are being mean to basem etc. which is clearly not allowed deal cu deal fu I take offense of terorrist coming to server on which I want peace basem is also mean to me sometimes and he knwos im joking and speaking some unknown language mixed with letters and numbers how do you know they are terrorists? fucking special code to detonate bomb or what what if there are other tunisian,iraq, etc. people on server do you think they will take it as a joke? I fignore them lol and what do they do to offend you? they exist? they believe in killing people? you cant know what a random guy believes in if he is from iraq, he is muslim if he is muslim, he believe in killing people Trela hell no fuck trela i really need AN OFFICIAL statement thats because all christians wait till marriage to have sex. of what you just said maybe if he is member of ISIS limited go to orban and tell him they are cool and you want 1 in your house You know nothign about orban ill go to fucking orban and tell him i want one in my server k xDDDD Orban hates them Quran Quran (2:191-193) - And kill them wherever you find them, and turn them out from where they have turned you out. And Al-Fitnah [disbelief or unrest] is worse than killing... but if they desist, then lo! Allah is forgiving and merciful. And fight them until there is no more Fitnah [disbelief and worshipping of others along with Allah] and worship is for Allah alone. But if they cease, let there be no transgression except against Az-Zalimun(the polytheists, and wrong-doers, etc.) (Translation is from the Noble Quran) The verse prior to this (190) refers to fighting for the cause of Allah those who fight you leading some to claim that the entire passage refers to a defensive war in which Muslims are defending their homes and families.  The historical context of this passage is not defensive warfare, however, since Muhammad and his Muslims had just relocated to Medina and were not under attack by their Meccan adversaries.  In fact, the verses urge offensive warfare, in that Muslims are to drive Meccans out of their own city (which they later did).  Verse 190 thus means to fight those who offer resistance to Allah's rule (ie. Muslim conquest).  The use of the word persecution by some Muslim translators is disingenuous - the actual Arabic words for persecution (idtihad) - and oppression are not used instead of fitna.  Fitna can mean disbelief, or the disorder that results from unbelief or temptation.  A strict translation is 'sedition,' meaning rebellion against authority (the authority being Allah).  This is certainly what is meant in this context since the violence is explicitly commissioned until religion is for Allah - ie. unbelievers desist in their unbelief.  [Editor's note: these notes have been modified slightly after a critic misinterpreted our language. Verse 193 plainly says that 'fighting' is sanctioned even if the fitna 'ceases'.  This is about religious order, not real persecution.] have fun hitler was atheist. ANd a good painter i dont need to quote his ideology here i hope. ye, and You love them limited, so go for a conversation with him you're basically quoting bible verses here trela. Who said I love the terrorists? which are about as bad as quran ones there is a big space between hating and loving trela. I think Im out No point of this argument izno never shared his information what if hes a muslim? Trela is full of hate, so no point you still talk to him i believe those words are out of context..real muslims are friendly and not monsters..but ye this is what media presents us trela has no way of knowing my religion. read this shit book claay then simple. Quran (2:191-193) Have u ever read it? Quran (2:191-193) Quran (2:191-193) Quran (2:191-193) google it yes 3 verses thats all u got GO READ IT THEN TALK TO ME the worst guy from lebanon that i know is a fucking christian GET SOME FKN AKNOWLEDGE the Islamic sacred book, believed to be the word of God as dictated to Muhammad by the archangel Gabriel and written down in Arabic. the Islamic sacred book, believed to be the word of God as dictated to Muhammad by the archangel Gabriel and written down in Arabic. ABOUT THIS DISEASE do you believe in god trela? Hard to not belive in yourself lol. believe* trela u didnt notes that u talk too much about muslims and say some shit about them ? i am serious do you believe in the christian god trela? do you believe in real God. christian god yes. Using those types of stories without context would be like saying that the United States is a racist/genocidal country because they bombed Japan in 1945, killing 250,000 people. The statement that they bombed Japan is true, but there's a whole context (a preceding global war that lasted 6 years) that it needs to be considered in the context of. how can I believe in 1 person which was walking on the water Izno please that was his son you dont even know christian religion how can you judge muslims so you dont believe in christian god BUT you believe \"\n",
    "len(ss)"
   ]
  },
  {
   "cell_type": "code",
   "execution_count": 152,
   "metadata": {},
   "outputs": [
    {
     "data": {
      "text/plain": [
       "{'probabilities': {'negative': 0.548038,\n",
       "  'neutral': 0.351081,\n",
       "  'positive': 0.100881},\n",
       " 'sentiment': 'negative',\n",
       " 'usage': 'By accessing ParallelDots API or using information generated by ParallelDots API, you are agreeing to be bound by the ParallelDots API Terms of Use: http://www.paralleldots.com/terms-and-conditions'}"
      ]
     },
     "execution_count": 152,
     "metadata": {},
     "output_type": "execute_result"
    }
   ],
   "source": [
    "sentiment('hello from the other side you idiotic master hello from the other side you idiotic master')"
   ]
  },
  {
   "cell_type": "code",
   "execution_count": 154,
   "metadata": {},
   "outputs": [
    {
     "data": {
      "text/plain": [
       "{'probabilities': {'negative': 0.425193,\n",
       "  'neutral': 0.360317,\n",
       "  'positive': 0.214491},\n",
       " 'sentiment': 'negative',\n",
       " 'usage': 'By accessing ParallelDots API or using information generated by ParallelDots API, you are agreeing to be bound by the ParallelDots API Terms of Use: http://www.paralleldots.com/terms-and-conditions'}"
      ]
     },
     "execution_count": 154,
     "metadata": {},
     "output_type": "execute_result"
    }
   ],
   "source": [
    "sentiment('hello from the other side you idiotic master hello from the other side you idiotic master hello from the other side you idiotic master hello from the other side you idiotic master')"
   ]
  },
  {
   "cell_type": "code",
   "execution_count": null,
   "metadata": {},
   "outputs": [],
   "source": []
  }
 ],
 "metadata": {
  "kernelspec": {
   "display_name": "Python 3",
   "language": "python",
   "name": "python3"
  },
  "language_info": {
   "codemirror_mode": {
    "name": "ipython",
    "version": 3
   },
   "file_extension": ".py",
   "mimetype": "text/x-python",
   "name": "python",
   "nbconvert_exporter": "python",
   "pygments_lexer": "ipython3",
   "version": "3.5.2"
  }
 },
 "nbformat": 4,
 "nbformat_minor": 2
}
